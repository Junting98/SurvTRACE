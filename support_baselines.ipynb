{
 "cells": [
  {
   "cell_type": "code",
   "execution_count": 1,
   "id": "936bdc5b",
   "metadata": {},
   "outputs": [],
   "source": [
    "import numpy as np\n",
    "import matplotlib.pyplot as plt\n",
    "import pandas as pd \n",
    "\n",
    "# For preprocessing\n",
    "from sklearn.preprocessing import StandardScaler\n",
    "from sklearn_pandas import DataFrameMapper \n",
    "\n",
    "import torch # For building the networks \n",
    "import torchtuples as tt # Some useful functions\n",
    "\n",
    "from pycox.datasets import metabric\n",
    "from pycox.datasets import support\n",
    "\n",
    "from pycox.models import LogisticHazard\n",
    "from pycox.models import CoxPH\n",
    "from pycox.models import PCHazard\n",
    "from pycox.models import DeepHitSingle\n",
    "from pycox.evaluation import EvalSurv\n"
   ]
  },
  {
   "cell_type": "code",
   "execution_count": 2,
   "id": "b01cf651",
   "metadata": {},
   "outputs": [],
   "source": [
    "# We also set some seeds to make this reproducable.\n",
    "# Note that on gpu, there is still some randomness.\n",
    "np.random.seed(678)\n",
    "_ = torch.manual_seed(678)"
   ]
  },
  {
   "cell_type": "markdown",
   "id": "57574898",
   "metadata": {},
   "source": [
    "# Load Data and Pre-Processing"
   ]
  },
  {
   "cell_type": "code",
   "execution_count": 3,
   "id": "4625c894",
   "metadata": {},
   "outputs": [],
   "source": [
    "df = support.read_df()\n",
    "df_train = support.read_df()\n",
    "df_test = df_train.sample(frac=0.2)\n",
    "df_train = df_train.drop(df_test.index)\n",
    "df_val = df_train.sample(frac=0.2)\n",
    "df_train = df_train.drop(df_val.index)"
   ]
  },
  {
   "cell_type": "code",
   "execution_count": 4,
   "id": "fc5243eb",
   "metadata": {},
   "outputs": [],
   "source": [
    "cols_standardize = ['x0', 'x1', 'x2', 'x3', 'x8']\n",
    "cols_leave = ['x4', 'x5', 'x6', 'x7']\n",
    "\n",
    "standardize = [([col], StandardScaler()) for col in cols_standardize]\n",
    "leave = [(col, None) for col in cols_leave]\n",
    "\n",
    "x_mapper = DataFrameMapper(standardize + leave)\n"
   ]
  },
  {
   "cell_type": "code",
   "execution_count": 5,
   "id": "4785a03d",
   "metadata": {},
   "outputs": [],
   "source": [
    "x_train = x_mapper.fit_transform(df_train).astype('float32')\n",
    "x_val = x_mapper.transform(df_val).astype('float32')\n",
    "x_test = x_mapper.transform(df_test).astype('float32')"
   ]
  },
  {
   "cell_type": "markdown",
   "id": "f24c8445",
   "metadata": {},
   "source": [
    "# DeepSurv"
   ]
  },
  {
   "cell_type": "code",
   "execution_count": 6,
   "id": "42c76e72",
   "metadata": {},
   "outputs": [],
   "source": [
    "# Processing labels\n",
    "get_target = lambda df: (df['duration'].values, df['event'].values)\n",
    "y_train = get_target(df_train)\n",
    "y_val = get_target(df_val)\n",
    "durations_test, events_test = get_target(df_test)\n",
    "val = x_val, y_val"
   ]
  },
  {
   "cell_type": "code",
   "execution_count": 12,
   "id": "e6b517ab",
   "metadata": {},
   "outputs": [],
   "source": [
    "# Build Models\n",
    "in_features = x_train.shape[1]\n",
    "num_nodes = [32, 32, 32]\n",
    "out_features = 1\n",
    "batch_norm = True\n",
    "dropout = 0.2\n",
    "output_bias = False\n",
    "\n",
    "net = tt.practical.MLPVanilla(in_features, num_nodes, out_features, batch_norm,\n",
    "                              dropout, output_bias=output_bias)\n",
    "\n",
    "model = CoxPH(net, tt.optim.Adam)\n"
   ]
  },
  {
   "cell_type": "code",
   "execution_count": 13,
   "id": "c76b0811",
   "metadata": {},
   "outputs": [
    {
     "name": "stdout",
     "output_type": "stream",
     "text": [
      "0:\t[0s / 0s],\t\ttrain_loss: 5.6275,\tval_loss: 4.9856\n",
      "1:\t[0s / 0s],\t\ttrain_loss: 5.3758,\tval_loss: 4.9367\n",
      "2:\t[0s / 0s],\t\ttrain_loss: 5.4124,\tval_loss: 4.9274\n",
      "3:\t[0s / 0s],\t\ttrain_loss: 5.1850,\tval_loss: 4.9726\n",
      "4:\t[0s / 0s],\t\ttrain_loss: 5.1859,\tval_loss: 4.9634\n",
      "5:\t[0s / 0s],\t\ttrain_loss: 5.3626,\tval_loss: 4.9266\n",
      "6:\t[0s / 0s],\t\ttrain_loss: 5.3169,\tval_loss: 4.9306\n",
      "7:\t[0s / 0s],\t\ttrain_loss: 5.2327,\tval_loss: 4.9327\n",
      "8:\t[0s / 0s],\t\ttrain_loss: 5.2820,\tval_loss: 4.9329\n",
      "9:\t[0s / 1s],\t\ttrain_loss: 5.1202,\tval_loss: 4.9201\n",
      "10:\t[0s / 1s],\t\ttrain_loss: 5.2385,\tval_loss: 4.9119\n",
      "11:\t[0s / 1s],\t\ttrain_loss: 5.0969,\tval_loss: 4.9144\n",
      "12:\t[0s / 1s],\t\ttrain_loss: 5.0701,\tval_loss: 4.9193\n",
      "13:\t[0s / 1s],\t\ttrain_loss: 5.3411,\tval_loss: 4.9126\n",
      "14:\t[0s / 1s],\t\ttrain_loss: 5.0746,\tval_loss: 4.9159\n",
      "15:\t[0s / 1s],\t\ttrain_loss: 5.0736,\tval_loss: 4.9145\n",
      "16:\t[0s / 1s],\t\ttrain_loss: 5.0268,\tval_loss: 4.9162\n",
      "17:\t[0s / 1s],\t\ttrain_loss: 5.0911,\tval_loss: 4.9123\n",
      "18:\t[0s / 1s],\t\ttrain_loss: 5.0782,\tval_loss: 4.9124\n",
      "19:\t[0s / 2s],\t\ttrain_loss: 5.0853,\tval_loss: 4.9137\n",
      "20:\t[0s / 2s],\t\ttrain_loss: 5.0200,\tval_loss: 4.9108\n",
      "21:\t[0s / 2s],\t\ttrain_loss: 5.0413,\tval_loss: 4.9137\n",
      "22:\t[0s / 2s],\t\ttrain_loss: 5.2678,\tval_loss: 4.9122\n",
      "23:\t[0s / 2s],\t\ttrain_loss: 5.1794,\tval_loss: 4.9104\n",
      "24:\t[0s / 2s],\t\ttrain_loss: 5.0223,\tval_loss: 4.9111\n",
      "25:\t[0s / 2s],\t\ttrain_loss: 5.0263,\tval_loss: 4.9110\n",
      "26:\t[0s / 2s],\t\ttrain_loss: 5.0726,\tval_loss: 4.9123\n",
      "27:\t[0s / 2s],\t\ttrain_loss: 5.0388,\tval_loss: 4.9106\n",
      "28:\t[0s / 3s],\t\ttrain_loss: 5.0012,\tval_loss: 4.9115\n",
      "29:\t[0s / 3s],\t\ttrain_loss: 5.0199,\tval_loss: 4.9092\n",
      "30:\t[0s / 3s],\t\ttrain_loss: 5.0242,\tval_loss: 4.9099\n",
      "31:\t[0s / 3s],\t\ttrain_loss: 5.0342,\tval_loss: 4.9141\n",
      "32:\t[0s / 3s],\t\ttrain_loss: 4.9919,\tval_loss: 4.9104\n",
      "33:\t[0s / 3s],\t\ttrain_loss: 5.0301,\tval_loss: 4.9100\n",
      "34:\t[0s / 3s],\t\ttrain_loss: 5.0293,\tval_loss: 4.9101\n",
      "35:\t[0s / 3s],\t\ttrain_loss: 5.0207,\tval_loss: 4.9100\n",
      "36:\t[0s / 3s],\t\ttrain_loss: 5.0362,\tval_loss: 4.9086\n",
      "37:\t[0s / 3s],\t\ttrain_loss: 5.2142,\tval_loss: 4.9095\n",
      "38:\t[0s / 4s],\t\ttrain_loss: 5.0268,\tval_loss: 4.9102\n",
      "39:\t[0s / 4s],\t\ttrain_loss: 5.0207,\tval_loss: 4.9103\n",
      "40:\t[0s / 4s],\t\ttrain_loss: 5.0205,\tval_loss: 4.9115\n",
      "41:\t[0s / 4s],\t\ttrain_loss: 5.0244,\tval_loss: 4.9087\n",
      "42:\t[0s / 4s],\t\ttrain_loss: 5.0093,\tval_loss: 4.9095\n",
      "43:\t[0s / 4s],\t\ttrain_loss: 5.0081,\tval_loss: 4.9085\n",
      "44:\t[0s / 4s],\t\ttrain_loss: 5.1250,\tval_loss: 4.9104\n",
      "45:\t[0s / 4s],\t\ttrain_loss: 5.0236,\tval_loss: 4.9130\n",
      "46:\t[0s / 4s],\t\ttrain_loss: 5.0049,\tval_loss: 4.9081\n",
      "47:\t[0s / 4s],\t\ttrain_loss: 5.0078,\tval_loss: 4.9056\n",
      "48:\t[0s / 5s],\t\ttrain_loss: 5.0130,\tval_loss: 4.9099\n",
      "49:\t[0s / 5s],\t\ttrain_loss: 5.0080,\tval_loss: 4.9096\n",
      "50:\t[0s / 5s],\t\ttrain_loss: 5.0119,\tval_loss: 4.9108\n",
      "51:\t[0s / 5s],\t\ttrain_loss: 5.0113,\tval_loss: 4.9088\n",
      "52:\t[0s / 5s],\t\ttrain_loss: 4.9989,\tval_loss: 4.9081\n",
      "53:\t[0s / 5s],\t\ttrain_loss: 5.0261,\tval_loss: 4.9061\n",
      "54:\t[0s / 5s],\t\ttrain_loss: 5.0078,\tval_loss: 4.9041\n",
      "55:\t[0s / 5s],\t\ttrain_loss: 4.9846,\tval_loss: 4.9082\n",
      "56:\t[0s / 5s],\t\ttrain_loss: 5.0230,\tval_loss: 4.9078\n",
      "57:\t[0s / 6s],\t\ttrain_loss: 5.0249,\tval_loss: 4.9083\n",
      "58:\t[0s / 6s],\t\ttrain_loss: 4.9917,\tval_loss: 4.9054\n",
      "59:\t[0s / 6s],\t\ttrain_loss: 4.9947,\tval_loss: 4.9090\n",
      "60:\t[0s / 6s],\t\ttrain_loss: 4.9864,\tval_loss: 4.9111\n",
      "61:\t[0s / 6s],\t\ttrain_loss: 4.9871,\tval_loss: 4.9081\n",
      "62:\t[0s / 6s],\t\ttrain_loss: 5.0003,\tval_loss: 4.9076\n",
      "63:\t[0s / 6s],\t\ttrain_loss: 4.9966,\tval_loss: 4.9044\n",
      "64:\t[0s / 6s],\t\ttrain_loss: 4.9842,\tval_loss: 4.9089\n"
     ]
    }
   ],
   "source": [
    "# Train the model\n",
    "batch_size = 256\n",
    "epochs = 100\n",
    "lrfinder = model.lr_finder(x_train, y_train, batch_size, tolerance=10)\n",
    "\n",
    "model.optimizer.set_lr(lrfinder.get_best_lr())\n",
    "epochs = 512\n",
    "callbacks = [tt.callbacks.EarlyStopping()]\n",
    "verbose = True\n",
    "\n",
    "log = model.fit(x_train, y_train, batch_size, epochs, callbacks, verbose,\n",
    "                val_data=val, val_batch_size=batch_size)\n"
   ]
  },
  {
   "cell_type": "code",
   "execution_count": 14,
   "id": "65539e83",
   "metadata": {
    "scrolled": true
   },
   "outputs": [
    {
     "data": {
      "image/png": "[encoded data removed]",
      "text/plain": [
       "<Figure size 432x288 with 1 Axes>"
      ]
     },
     "metadata": {
      "needs_background": "light"
     },
     "output_type": "display_data"
    }
   ],
   "source": [
    "_ = log.plot()\n"
   ]
  },
  {
   "cell_type": "code",
   "execution_count": 15,
   "id": "3d854da8",
   "metadata": {},
   "outputs": [],
   "source": [
    "# Evaluate the model\n",
    "from collections import defaultdict\n",
    "from sksurv.metrics import concordance_index_ipcw, brier_score\n",
    "\n",
    "def eval_single(df_train_all, model, test_set, val_batch_size=None):\n",
    "    get_target = lambda df: (df['duration'].values, df['event'].values)\n",
    "    durations_train, events_train = get_target(df_train_all)\n",
    "    et_train = np.array([(events_train[i], durations_train[i]) for i in range(len(events_train))],\n",
    "                    dtype = [('e', bool), ('t', float)])\n",
    "    \n",
    "    horizons = [0.25, 0.5, 0.75]\n",
    "    times = np.quantile(df[\"duration\"][df[\"event\"]==1.0], horizons).tolist()\n",
    "    \n",
    "\n",
    "    df_test, df_y_test = test_set\n",
    "    _ = model.compute_baseline_hazards()\n",
    "    surv = model.predict_surv(df_test, batch_size=val_batch_size)\n",
    "    risk = 1 - surv\n",
    "\n",
    "    durations_test, events_test = get_target(df_y_test)\n",
    "    et_test = np.array([(events_test[i], durations_test[i]) for i in range(len(events_test))],\n",
    "                dtype = [('e', bool), ('t', float)])\n",
    "\n",
    "    metric_dict = defaultdict(list)\n",
    "\n",
    "    cis = []\n",
    "    for i, _ in enumerate(times):\n",
    "        cis.append(\n",
    "            concordance_index_ipcw(et_train, et_test, estimate=risk[:, i+1], tau=times[i])[0]\n",
    "            )\n",
    "        metric_dict[f'{horizons[i]}_ipcw'] = cis[i]\n",
    "#         metric_dict[f'{horizons[i]}_brier'] = brs[i]\n",
    "\n",
    "\n",
    "    for horizon in enumerate(horizons):\n",
    "        print(f\"For {horizon[1]} quantile,\")\n",
    "        print(\"TD Concordance Index - IPCW:\", cis[horizon[0]])\n",
    "\n",
    "    return metric_dict"
   ]
  },
  {
   "cell_type": "code",
   "execution_count": 16,
   "id": "370aeb33",
   "metadata": {},
   "outputs": [
    {
     "name": "stdout",
     "output_type": "stream",
     "text": [
      "For 0.25 quantile,\n",
      "TD Concordance Index - IPCW: 0.5400971167512248\n",
      "For 0.5 quantile,\n",
      "TD Concordance Index - IPCW: 0.5145437787590486\n",
      "For 0.75 quantile,\n",
      "TD Concordance Index - IPCW: 0.5130080692171102\n"
     ]
    },
    {
     "data": {
      "text/plain": [
       "defaultdict(list,\n",
       "            {'0.25_ipcw': 0.5400971167512248,\n",
       "             '0.5_ipcw': 0.5145437787590486,\n",
       "             '0.75_ipcw': 0.5130080692171102})"
      ]
     },
     "execution_count": 16,
     "metadata": {},
     "output_type": "execute_result"
    }
   ],
   "source": [
    "df_y_test = pd.DataFrame({\"duration\": df['duration'].loc[df_test.index], \"event\": df['event'].loc[df_test.index]})\n",
    "eval_single(df_train, model, (x_test, df_y_test))"
   ]
  },
  {
   "cell_type": "markdown",
   "id": "8f519c15",
   "metadata": {},
   "source": [
    "# DeepHit"
   ]
  },
  {
   "cell_type": "code",
   "execution_count": 17,
   "id": "d0286fa9",
   "metadata": {},
   "outputs": [],
   "source": [
    "# Processing Labels\n",
    "labtrans = DeepHitSingle.label_transform(cuts=20)\n",
    "\n",
    "get_target = lambda df: (df['duration'].values, df['event'].values)\n",
    "y_train = labtrans.fit_transform(*get_target(df_train))\n",
    "y_val = labtrans.transform(*get_target(df_val))\n",
    "\n",
    "train = (x_train, y_train)\n",
    "val = (x_val, y_val)\n",
    "\n",
    "# We don't need to transform the test labels\n",
    "durations_test, events_test = get_target(df_test)"
   ]
  },
  {
   "cell_type": "code",
   "execution_count": 18,
   "id": "9981e60b",
   "metadata": {},
   "outputs": [],
   "source": [
    "# Build the model and train\n",
    "in_features = x_train.shape[1]\n",
    "num_nodes = [32, 32, 32]\n",
    "out_features = labtrans.out_features\n",
    "batch_norm = True\n",
    "dropout = 0.2\n",
    "\n",
    "net = tt.practical.MLPVanilla(in_features, num_nodes, out_features, batch_norm, dropout)\n",
    "model = DeepHitSingle(net, tt.optim.Adam(0.001), duration_index=labtrans.cuts)\n"
   ]
  },
  {
   "cell_type": "code",
   "execution_count": 19,
   "id": "d15fd354",
   "metadata": {},
   "outputs": [
    {
     "name": "stdout",
     "output_type": "stream",
     "text": [
      "0:\t[0s / 0s],\t\ttrain_loss: 0.7775,\tval_loss: 0.7147\n",
      "1:\t[0s / 0s],\t\ttrain_loss: 0.7573,\tval_loss: 0.7096\n",
      "2:\t[0s / 0s],\t\ttrain_loss: 0.7479,\tval_loss: 0.7041\n",
      "3:\t[0s / 0s],\t\ttrain_loss: 0.7351,\tval_loss: 0.6981\n",
      "4:\t[0s / 0s],\t\ttrain_loss: 0.7253,\tval_loss: 0.6931\n",
      "5:\t[0s / 0s],\t\ttrain_loss: 0.7195,\tval_loss: 0.6883\n",
      "6:\t[0s / 1s],\t\ttrain_loss: 0.7106,\tval_loss: 0.6809\n",
      "7:\t[0s / 1s],\t\ttrain_loss: 0.7018,\tval_loss: 0.6759\n",
      "8:\t[0s / 1s],\t\ttrain_loss: 0.7016,\tval_loss: 0.6694\n",
      "9:\t[0s / 1s],\t\ttrain_loss: 0.6939,\tval_loss: 0.6641\n",
      "10:\t[0s / 1s],\t\ttrain_loss: 0.6832,\tval_loss: 0.6618\n",
      "11:\t[0s / 1s],\t\ttrain_loss: 0.6825,\tval_loss: 0.6560\n",
      "12:\t[0s / 1s],\t\ttrain_loss: 0.6775,\tval_loss: 0.6517\n",
      "13:\t[0s / 2s],\t\ttrain_loss: 0.6690,\tval_loss: 0.6501\n",
      "14:\t[0s / 2s],\t\ttrain_loss: 0.6685,\tval_loss: 0.6474\n",
      "15:\t[0s / 2s],\t\ttrain_loss: 0.6646,\tval_loss: 0.6396\n",
      "16:\t[0s / 2s],\t\ttrain_loss: 0.6613,\tval_loss: 0.6406\n",
      "17:\t[0s / 2s],\t\ttrain_loss: 0.6522,\tval_loss: 0.6321\n",
      "18:\t[0s / 2s],\t\ttrain_loss: 0.6523,\tval_loss: 0.6295\n",
      "19:\t[0s / 2s],\t\ttrain_loss: 0.6492,\tval_loss: 0.6223\n",
      "20:\t[0s / 3s],\t\ttrain_loss: 0.6437,\tval_loss: 0.6216\n",
      "21:\t[0s / 3s],\t\ttrain_loss: 0.6377,\tval_loss: 0.6167\n",
      "22:\t[0s / 3s],\t\ttrain_loss: 0.6379,\tval_loss: 0.6165\n",
      "23:\t[0s / 3s],\t\ttrain_loss: 0.6352,\tval_loss: 0.6135\n",
      "24:\t[0s / 3s],\t\ttrain_loss: 0.6329,\tval_loss: 0.6120\n",
      "25:\t[0s / 3s],\t\ttrain_loss: 0.6277,\tval_loss: 0.6137\n",
      "26:\t[0s / 3s],\t\ttrain_loss: 0.6259,\tval_loss: 0.6060\n",
      "27:\t[0s / 4s],\t\ttrain_loss: 0.6244,\tval_loss: 0.6055\n",
      "28:\t[0s / 4s],\t\ttrain_loss: 0.6240,\tval_loss: 0.6012\n",
      "29:\t[0s / 4s],\t\ttrain_loss: 0.6251,\tval_loss: 0.6083\n",
      "30:\t[0s / 4s],\t\ttrain_loss: 0.6152,\tval_loss: 0.6055\n",
      "31:\t[0s / 4s],\t\ttrain_loss: 0.6150,\tval_loss: 0.5987\n",
      "32:\t[0s / 4s],\t\ttrain_loss: 0.6134,\tval_loss: 0.5992\n",
      "33:\t[0s / 4s],\t\ttrain_loss: 0.6103,\tval_loss: 0.5999\n",
      "34:\t[0s / 4s],\t\ttrain_loss: 0.6122,\tval_loss: 0.5944\n",
      "35:\t[0s / 5s],\t\ttrain_loss: 0.6104,\tval_loss: 0.5946\n",
      "36:\t[0s / 5s],\t\ttrain_loss: 0.6065,\tval_loss: 0.5901\n",
      "37:\t[0s / 5s],\t\ttrain_loss: 0.6024,\tval_loss: 0.5925\n",
      "38:\t[0s / 5s],\t\ttrain_loss: 0.6069,\tval_loss: 0.5923\n",
      "39:\t[0s / 5s],\t\ttrain_loss: 0.6043,\tval_loss: 0.5890\n",
      "40:\t[0s / 5s],\t\ttrain_loss: 0.6059,\tval_loss: 0.5852\n",
      "41:\t[0s / 5s],\t\ttrain_loss: 0.6014,\tval_loss: 0.5848\n",
      "42:\t[0s / 6s],\t\ttrain_loss: 0.5951,\tval_loss: 0.5911\n",
      "43:\t[0s / 6s],\t\ttrain_loss: 0.6002,\tval_loss: 0.5874\n",
      "44:\t[0s / 6s],\t\ttrain_loss: 0.5939,\tval_loss: 0.5787\n",
      "45:\t[0s / 6s],\t\ttrain_loss: 0.5982,\tval_loss: 0.5888\n",
      "46:\t[0s / 6s],\t\ttrain_loss: 0.6002,\tval_loss: 0.5932\n",
      "47:\t[0s / 6s],\t\ttrain_loss: 0.5973,\tval_loss: 0.5838\n",
      "48:\t[0s / 6s],\t\ttrain_loss: 0.5951,\tval_loss: 0.5841\n",
      "49:\t[0s / 7s],\t\ttrain_loss: 0.5935,\tval_loss: 0.5857\n",
      "50:\t[0s / 7s],\t\ttrain_loss: 0.5937,\tval_loss: 0.5823\n",
      "51:\t[0s / 7s],\t\ttrain_loss: 0.5946,\tval_loss: 0.5836\n",
      "52:\t[0s / 7s],\t\ttrain_loss: 0.5897,\tval_loss: 0.5847\n",
      "53:\t[0s / 7s],\t\ttrain_loss: 0.5895,\tval_loss: 0.5761\n",
      "54:\t[0s / 7s],\t\ttrain_loss: 0.5923,\tval_loss: 0.5833\n",
      "55:\t[0s / 7s],\t\ttrain_loss: 0.5873,\tval_loss: 0.5854\n",
      "56:\t[0s / 8s],\t\ttrain_loss: 0.5922,\tval_loss: 0.5888\n",
      "57:\t[0s / 8s],\t\ttrain_loss: 0.5914,\tval_loss: 0.5814\n",
      "58:\t[0s / 8s],\t\ttrain_loss: 0.5913,\tval_loss: 0.5818\n",
      "59:\t[0s / 8s],\t\ttrain_loss: 0.5906,\tval_loss: 0.5782\n",
      "60:\t[0s / 8s],\t\ttrain_loss: 0.5907,\tval_loss: 0.5843\n",
      "61:\t[0s / 8s],\t\ttrain_loss: 0.5892,\tval_loss: 0.5787\n",
      "62:\t[0s / 8s],\t\ttrain_loss: 0.5889,\tval_loss: 0.5843\n",
      "63:\t[0s / 9s],\t\ttrain_loss: 0.5892,\tval_loss: 0.5830\n"
     ]
    }
   ],
   "source": [
    "batch_size = 256\n",
    "epochs = 100\n",
    "callbacks = [tt.cb.EarlyStopping()]\n",
    "log = model.fit(x_train, y_train, batch_size, epochs, callbacks, val_data=val)\n"
   ]
  },
  {
   "cell_type": "code",
   "execution_count": 20,
   "id": "818c1cd1",
   "metadata": {},
   "outputs": [
    {
     "data": {
      "image/png": "[encoded data removed]",
      "text/plain": [
       "<Figure size 432x288 with 1 Axes>"
      ]
     },
     "metadata": {
      "needs_background": "light"
     },
     "output_type": "display_data"
    }
   ],
   "source": [
    "_ = log.plot()\n"
   ]
  },
  {
   "cell_type": "code",
   "execution_count": 21,
   "id": "cd7f8721",
   "metadata": {},
   "outputs": [
    {
     "name": "stdout",
     "output_type": "stream",
     "text": [
      "For 0.25 quantile,\n",
      "TD Concordance Index - IPCW: 0.5929454322261327\n",
      "For 0.5 quantile,\n",
      "TD Concordance Index - IPCW: 0.54856477547628\n",
      "For 0.75 quantile,\n",
      "TD Concordance Index - IPCW: 0.5561711888657758\n"
     ]
    },
    {
     "data": {
      "text/plain": [
       "defaultdict(list,\n",
       "            {'0.25_ipcw': 0.5929454322261327,\n",
       "             '0.5_ipcw': 0.54856477547628,\n",
       "             '0.75_ipcw': 0.5561711888657758})"
      ]
     },
     "execution_count": 21,
     "metadata": {},
     "output_type": "execute_result"
    }
   ],
   "source": [
    "# Evaluate the model\n",
    "\n",
    "def eval_single(df_train_all, model, test_set, val_batch_size=None):\n",
    "    get_target = lambda df: (df['duration'].values, df['event'].values)\n",
    "    durations_train, events_train = get_target(df_train_all)\n",
    "    et_train = np.array([(events_train[i], durations_train[i]) for i in range(len(events_train))],\n",
    "                    dtype = [('e', bool), ('t', float)])\n",
    "    \n",
    "    horizons = [0.25, 0.5, 0.75]\n",
    "    times = np.quantile(df[\"duration\"][df[\"event\"]==1.0], horizons).tolist()\n",
    "    \n",
    "\n",
    "    df_test, df_y_test = test_set\n",
    "    surv = model.predict_surv(df_test, batch_size=val_batch_size)\n",
    "    risk = 1 - surv\n",
    "\n",
    "    durations_test, events_test = get_target(df_y_test)\n",
    "    et_test = np.array([(events_test[i], durations_test[i]) for i in range(len(events_test))],\n",
    "                dtype = [('e', bool), ('t', float)])\n",
    "\n",
    "    metric_dict = defaultdict(list)\n",
    "\n",
    "    cis = []\n",
    "    for i, _ in enumerate(times):\n",
    "        cis.append(\n",
    "            concordance_index_ipcw(et_train, et_test, estimate=risk[:, i+1], tau=times[i])[0]\n",
    "            )\n",
    "        metric_dict[f'{horizons[i]}_ipcw'] = cis[i]\n",
    "\n",
    "    for horizon in enumerate(horizons):\n",
    "        print(f\"For {horizon[1]} quantile,\")\n",
    "        print(\"TD Concordance Index - IPCW:\", cis[horizon[0]])\n",
    "\n",
    "    return metric_dict\n",
    "\n",
    "df_y_test = pd.DataFrame({\"duration\": df['duration'].loc[df_test.index], \"event\": df['event'].loc[df_test.index]})\n",
    "eval_single(df_train, model, (x_test, df_y_test))"
   ]
  },
  {
   "cell_type": "code",
   "execution_count": null,
   "id": "89021862",
   "metadata": {},
   "outputs": [],
   "source": []
  },
  {
   "cell_type": "markdown",
   "id": "8316edfe",
   "metadata": {},
   "source": [
    "# PC-Hazard "
   ]
  },
  {
   "cell_type": "code",
   "execution_count": 22,
   "id": "21708418",
   "metadata": {},
   "outputs": [],
   "source": [
    "# Processing labels\n",
    "num_durations = 10\n",
    "labtrans = PCHazard.label_transform(cuts=num_durations)\n",
    "\n",
    "get_target = lambda df: (df['duration'].values, df['event'].values)\n",
    "y_train = labtrans.fit_transform(*get_target(df_train))\n",
    "y_val = labtrans.transform(*get_target(df_val))\n",
    "\n",
    "train = (x_train, y_train)\n",
    "val = (x_val, y_val)\n",
    "\n",
    "# We don't need to transform the test labels\n",
    "durations_test, events_test = get_target(df_test)"
   ]
  },
  {
   "cell_type": "code",
   "execution_count": 23,
   "id": "b14a2667",
   "metadata": {},
   "outputs": [],
   "source": [
    "# Build the model and train\n",
    "in_features = x_train.shape[1]\n",
    "num_nodes = [32, 32, 32]\n",
    "out_features = labtrans.out_features\n",
    "batch_norm = True\n",
    "dropout = 0.2\n",
    "\n",
    "net = tt.practical.MLPVanilla(in_features, num_nodes, out_features, batch_norm, dropout)\n",
    "model = PCHazard(net, tt.optim.Adam, duration_index=labtrans.cuts)\n",
    "\n"
   ]
  },
  {
   "cell_type": "code",
   "execution_count": 19,
   "id": "e7df8144",
   "metadata": {
    "scrolled": true
   },
   "outputs": [
    {
     "name": "stdout",
     "output_type": "stream",
     "text": [
      "0:\t[0s / 0s],\t\ttrain_loss: 1.9736,\tval_loss: 1.8713\n",
      "1:\t[0s / 0s],\t\ttrain_loss: 1.8872,\tval_loss: 1.7815\n",
      "2:\t[0s / 0s],\t\ttrain_loss: 1.8283,\tval_loss: 1.7254\n",
      "3:\t[0s / 0s],\t\ttrain_loss: 1.7647,\tval_loss: 1.6649\n",
      "4:\t[0s / 0s],\t\ttrain_loss: 1.7161,\tval_loss: 1.5923\n",
      "5:\t[0s / 0s],\t\ttrain_loss: 1.6416,\tval_loss: 1.5181\n",
      "6:\t[0s / 0s],\t\ttrain_loss: 1.5641,\tval_loss: 1.4329\n",
      "7:\t[0s / 0s],\t\ttrain_loss: 1.5032,\tval_loss: 1.4013\n",
      "8:\t[0s / 1s],\t\ttrain_loss: 1.4465,\tval_loss: 1.3431\n",
      "9:\t[0s / 1s],\t\ttrain_loss: 1.3908,\tval_loss: 1.3160\n",
      "10:\t[0s / 1s],\t\ttrain_loss: 1.3291,\tval_loss: 1.2802\n",
      "11:\t[0s / 1s],\t\ttrain_loss: 1.3108,\tval_loss: 1.2453\n",
      "12:\t[0s / 1s],\t\ttrain_loss: 1.2905,\tval_loss: 1.2302\n",
      "13:\t[0s / 1s],\t\ttrain_loss: 1.2499,\tval_loss: 1.2187\n",
      "14:\t[0s / 1s],\t\ttrain_loss: 1.2324,\tval_loss: 1.2160\n",
      "15:\t[0s / 2s],\t\ttrain_loss: 1.2203,\tval_loss: 1.2097\n",
      "16:\t[0s / 2s],\t\ttrain_loss: 1.2113,\tval_loss: 1.2064\n",
      "17:\t[0s / 2s],\t\ttrain_loss: 1.2144,\tval_loss: 1.2048\n",
      "18:\t[0s / 2s],\t\ttrain_loss: 1.1912,\tval_loss: 1.2060\n",
      "19:\t[0s / 2s],\t\ttrain_loss: 1.2049,\tval_loss: 1.2039\n",
      "20:\t[0s / 2s],\t\ttrain_loss: 1.1897,\tval_loss: 1.2049\n",
      "21:\t[0s / 2s],\t\ttrain_loss: 1.1940,\tval_loss: 1.2083\n",
      "22:\t[0s / 2s],\t\ttrain_loss: 1.1896,\tval_loss: 1.1997\n",
      "23:\t[0s / 2s],\t\ttrain_loss: 1.1828,\tval_loss: 1.1945\n",
      "24:\t[0s / 3s],\t\ttrain_loss: 1.1839,\tval_loss: 1.1947\n",
      "25:\t[0s / 3s],\t\ttrain_loss: 1.1807,\tval_loss: 1.1965\n",
      "26:\t[0s / 3s],\t\ttrain_loss: 1.1804,\tval_loss: 1.1927\n",
      "27:\t[0s / 3s],\t\ttrain_loss: 1.1767,\tval_loss: 1.1921\n",
      "28:\t[0s / 3s],\t\ttrain_loss: 1.1836,\tval_loss: 1.1902\n",
      "29:\t[0s / 3s],\t\ttrain_loss: 1.1684,\tval_loss: 1.1910\n",
      "30:\t[0s / 3s],\t\ttrain_loss: 1.1600,\tval_loss: 1.1870\n",
      "31:\t[0s / 4s],\t\ttrain_loss: 1.1658,\tval_loss: 1.1877\n",
      "32:\t[0s / 4s],\t\ttrain_loss: 1.1650,\tval_loss: 1.1874\n",
      "33:\t[0s / 4s],\t\ttrain_loss: 1.1721,\tval_loss: 1.1854\n",
      "34:\t[0s / 4s],\t\ttrain_loss: 1.1681,\tval_loss: 1.1831\n",
      "35:\t[0s / 4s],\t\ttrain_loss: 1.1705,\tval_loss: 1.1839\n",
      "36:\t[0s / 4s],\t\ttrain_loss: 1.1701,\tval_loss: 1.1843\n",
      "37:\t[0s / 4s],\t\ttrain_loss: 1.1628,\tval_loss: 1.1838\n",
      "38:\t[0s / 4s],\t\ttrain_loss: 1.1667,\tval_loss: 1.1844\n",
      "39:\t[0s / 4s],\t\ttrain_loss: 1.1680,\tval_loss: 1.1820\n",
      "40:\t[0s / 5s],\t\ttrain_loss: 1.1735,\tval_loss: 1.1797\n",
      "41:\t[0s / 5s],\t\ttrain_loss: 1.1547,\tval_loss: 1.1821\n",
      "42:\t[0s / 5s],\t\ttrain_loss: 1.1480,\tval_loss: 1.1797\n",
      "43:\t[0s / 5s],\t\ttrain_loss: 1.1634,\tval_loss: 1.1780\n",
      "44:\t[0s / 5s],\t\ttrain_loss: 1.1560,\tval_loss: 1.1744\n",
      "45:\t[0s / 5s],\t\ttrain_loss: 1.1683,\tval_loss: 1.1774\n",
      "46:\t[0s / 5s],\t\ttrain_loss: 1.1731,\tval_loss: 1.1739\n",
      "47:\t[0s / 5s],\t\ttrain_loss: 1.1607,\tval_loss: 1.1730\n",
      "48:\t[0s / 6s],\t\ttrain_loss: 1.1488,\tval_loss: 1.1747\n",
      "49:\t[0s / 6s],\t\ttrain_loss: 1.1557,\tval_loss: 1.1720\n",
      "50:\t[0s / 6s],\t\ttrain_loss: 1.1581,\tval_loss: 1.1741\n",
      "51:\t[0s / 6s],\t\ttrain_loss: 1.1588,\tval_loss: 1.1757\n",
      "52:\t[0s / 6s],\t\ttrain_loss: 1.1568,\tval_loss: 1.1750\n",
      "53:\t[0s / 6s],\t\ttrain_loss: 1.1494,\tval_loss: 1.1714\n",
      "54:\t[0s / 6s],\t\ttrain_loss: 1.1498,\tval_loss: 1.1721\n",
      "55:\t[0s / 6s],\t\ttrain_loss: 1.1474,\tval_loss: 1.1710\n",
      "56:\t[0s / 7s],\t\ttrain_loss: 1.1546,\tval_loss: 1.1707\n",
      "57:\t[0s / 7s],\t\ttrain_loss: 1.1476,\tval_loss: 1.1710\n",
      "58:\t[0s / 7s],\t\ttrain_loss: 1.1559,\tval_loss: 1.1686\n",
      "59:\t[0s / 7s],\t\ttrain_loss: 1.1560,\tval_loss: 1.1671\n",
      "60:\t[0s / 7s],\t\ttrain_loss: 1.1459,\tval_loss: 1.1675\n",
      "61:\t[0s / 7s],\t\ttrain_loss: 1.1506,\tval_loss: 1.1673\n",
      "62:\t[0s / 7s],\t\ttrain_loss: 1.1422,\tval_loss: 1.1693\n",
      "63:\t[0s / 7s],\t\ttrain_loss: 1.1506,\tval_loss: 1.1669\n",
      "64:\t[0s / 8s],\t\ttrain_loss: 1.1394,\tval_loss: 1.1670\n",
      "65:\t[0s / 8s],\t\ttrain_loss: 1.1397,\tval_loss: 1.1672\n",
      "66:\t[0s / 8s],\t\ttrain_loss: 1.1460,\tval_loss: 1.1684\n",
      "67:\t[0s / 8s],\t\ttrain_loss: 1.1447,\tval_loss: 1.1669\n",
      "68:\t[0s / 8s],\t\ttrain_loss: 1.1405,\tval_loss: 1.1663\n",
      "69:\t[0s / 8s],\t\ttrain_loss: 1.1585,\tval_loss: 1.1664\n",
      "70:\t[0s / 8s],\t\ttrain_loss: 1.1405,\tval_loss: 1.1667\n",
      "71:\t[0s / 8s],\t\ttrain_loss: 1.1494,\tval_loss: 1.1651\n",
      "72:\t[0s / 9s],\t\ttrain_loss: 1.1382,\tval_loss: 1.1656\n",
      "73:\t[0s / 9s],\t\ttrain_loss: 1.1359,\tval_loss: 1.1654\n",
      "74:\t[0s / 9s],\t\ttrain_loss: 1.1435,\tval_loss: 1.1615\n",
      "75:\t[0s / 9s],\t\ttrain_loss: 1.1429,\tval_loss: 1.1649\n",
      "76:\t[0s / 9s],\t\ttrain_loss: 1.1460,\tval_loss: 1.1626\n",
      "77:\t[0s / 9s],\t\ttrain_loss: 1.1369,\tval_loss: 1.1615\n",
      "78:\t[0s / 9s],\t\ttrain_loss: 1.1401,\tval_loss: 1.1632\n",
      "79:\t[0s / 9s],\t\ttrain_loss: 1.1360,\tval_loss: 1.1638\n",
      "80:\t[0s / 10s],\t\ttrain_loss: 1.1335,\tval_loss: 1.1652\n",
      "81:\t[0s / 10s],\t\ttrain_loss: 1.1522,\tval_loss: 1.1636\n",
      "82:\t[0s / 10s],\t\ttrain_loss: 1.1459,\tval_loss: 1.1631\n",
      "83:\t[0s / 10s],\t\ttrain_loss: 1.1386,\tval_loss: 1.1604\n",
      "84:\t[0s / 10s],\t\ttrain_loss: 1.1244,\tval_loss: 1.1605\n",
      "85:\t[0s / 10s],\t\ttrain_loss: 1.1265,\tval_loss: 1.1618\n",
      "86:\t[0s / 10s],\t\ttrain_loss: 1.1537,\tval_loss: 1.1596\n",
      "87:\t[0s / 10s],\t\ttrain_loss: 1.1353,\tval_loss: 1.1627\n",
      "88:\t[0s / 11s],\t\ttrain_loss: 1.1299,\tval_loss: 1.1627\n",
      "89:\t[0s / 11s],\t\ttrain_loss: 1.1441,\tval_loss: 1.1619\n",
      "90:\t[0s / 11s],\t\ttrain_loss: 1.1429,\tval_loss: 1.1607\n",
      "91:\t[0s / 11s],\t\ttrain_loss: 1.1294,\tval_loss: 1.1598\n",
      "92:\t[0s / 11s],\t\ttrain_loss: 1.1403,\tval_loss: 1.1617\n",
      "93:\t[0s / 11s],\t\ttrain_loss: 1.1402,\tval_loss: 1.1610\n",
      "94:\t[0s / 11s],\t\ttrain_loss: 1.1383,\tval_loss: 1.1608\n",
      "95:\t[0s / 11s],\t\ttrain_loss: 1.1454,\tval_loss: 1.1571\n",
      "96:\t[0s / 12s],\t\ttrain_loss: 1.1428,\tval_loss: 1.1584\n",
      "97:\t[0s / 12s],\t\ttrain_loss: 1.1255,\tval_loss: 1.1569\n",
      "98:\t[0s / 12s],\t\ttrain_loss: 1.1374,\tval_loss: 1.1588\n",
      "99:\t[0s / 12s],\t\ttrain_loss: 1.1496,\tval_loss: 1.1586\n"
     ]
    }
   ],
   "source": [
    "batch_size = 256\n",
    "epochs = 100\n",
    "callbacks = [tt.cb.EarlyStopping()]\n",
    "log = model.fit(x_train, y_train, batch_size, epochs, callbacks, val_data=val)\n"
   ]
  },
  {
   "cell_type": "code",
   "execution_count": 20,
   "id": "52b846f1",
   "metadata": {},
   "outputs": [
    {
     "data": {
      "image/png": "[encoded data removed]",
      "text/plain": [
       "<Figure size 432x288 with 1 Axes>"
      ]
     },
     "metadata": {
      "needs_background": "light"
     },
     "output_type": "display_data"
    }
   ],
   "source": [
    "_ = log.plot()\n"
   ]
  },
  {
   "cell_type": "code",
   "execution_count": 21,
   "id": "b6773c06",
   "metadata": {},
   "outputs": [
    {
     "name": "stdout",
     "output_type": "stream",
     "text": [
      "For 0.25 quantile,\n",
      "TD Concordance Index - IPCW: 0.6228178266188975\n",
      "For 0.5 quantile,\n",
      "TD Concordance Index - IPCW: 0.6013140031031807\n",
      "For 0.75 quantile,\n",
      "TD Concordance Index - IPCW: 0.6082745032272636\n"
     ]
    },
    {
     "data": {
      "text/plain": [
       "defaultdict(list,\n",
       "            {'0.25_ipcw': 0.6228178266188975,\n",
       "             '0.5_ipcw': 0.6013140031031807,\n",
       "             '0.75_ipcw': 0.6082745032272636})"
      ]
     },
     "execution_count": 21,
     "metadata": {},
     "output_type": "execute_result"
    }
   ],
   "source": [
    "df_y_test = pd.DataFrame({\"duration\": df['duration'].loc[df_test.index], \"event\": df['event'].loc[df_test.index]})\n",
    "eval_single(df_train, model, (x_test, df_y_test))"
   ]
  },
  {
   "cell_type": "code",
   "execution_count": null,
   "id": "40d7b13e",
   "metadata": {},
   "outputs": [],
   "source": []
  },
  {
   "cell_type": "code",
   "execution_count": null,
   "id": "1c0d47cd",
   "metadata": {},
   "outputs": [],
   "source": []
  }
 ],
 "metadata": {
  "kernelspec": {
   "display_name": "Python 3 (ipykernel)",
   "language": "python",
   "name": "python3"
  },
  "language_info": {
   "codemirror_mode": {
    "name": "ipython",
    "version": 3
   },
   "file_extension": ".py",
   "mimetype": "text/x-python",
   "name": "python",
   "nbconvert_exporter": "python",
   "pygments_lexer": "ipython3",
   "version": "3.8.12"
  }
 },
 "nbformat": 4,
 "nbformat_minor": 5
}
