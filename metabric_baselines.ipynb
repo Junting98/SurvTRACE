{
 "cells": [
  {
   "cell_type": "code",
   "execution_count": 1,
   "id": "936bdc5b",
   "metadata": {},
   "outputs": [],
   "source": [
    "import numpy as np\n",
    "import matplotlib.pyplot as plt\n",
    "import pandas as pd \n",
    "\n",
    "# For preprocessing\n",
    "from sklearn.preprocessing import StandardScaler\n",
    "from sklearn_pandas import DataFrameMapper \n",
    "\n",
    "import torch # For building the networks \n",
    "import torchtuples as tt # Some useful functions\n",
    "\n",
    "from pycox.datasets import metabric\n",
    "from pycox.datasets import support\n",
    "\n",
    "from pycox.models import LogisticHazard\n",
    "from pycox.models import CoxPH\n",
    "from pycox.models import PCHazard\n",
    "from pycox.models import DeepHitSingle\n",
    "from pycox.evaluation import EvalSurv\n"
   ]
  },
  {
   "cell_type": "code",
   "execution_count": 2,
   "id": "b01cf651",
   "metadata": {},
   "outputs": [],
   "source": [
    "# We also set some seeds to make this reproducable.\n",
    "# Note that on gpu, there is still some randomness.\n",
    "np.random.seed(1234)\n",
    "_ = torch.manual_seed(123)"
   ]
  },
  {
   "cell_type": "markdown",
   "id": "57574898",
   "metadata": {},
   "source": [
    "# Load Data and Pre-Processing"
   ]
  },
  {
   "cell_type": "code",
   "execution_count": 3,
   "id": "4625c894",
   "metadata": {},
   "outputs": [],
   "source": [
    "df = metabric.read_df()\n",
    "df_train = metabric.read_df()\n",
    "df_test = df_train.sample(frac=0.2)\n",
    "df_train = df_train.drop(df_test.index)\n",
    "df_val = df_train.sample(frac=0.2)\n",
    "df_train = df_train.drop(df_val.index)"
   ]
  },
  {
   "cell_type": "code",
   "execution_count": 4,
   "id": "fc5243eb",
   "metadata": {},
   "outputs": [],
   "source": [
    "cols_standardize = ['x0', 'x1', 'x2', 'x3', 'x8']\n",
    "cols_leave = ['x4', 'x5', 'x6', 'x7']\n",
    "\n",
    "standardize = [([col], StandardScaler()) for col in cols_standardize]\n",
    "leave = [(col, None) for col in cols_leave]\n",
    "\n",
    "x_mapper = DataFrameMapper(standardize + leave)\n"
   ]
  },
  {
   "cell_type": "code",
   "execution_count": 5,
   "id": "4785a03d",
   "metadata": {},
   "outputs": [],
   "source": [
    "x_train = x_mapper.fit_transform(df_train).astype('float32')\n",
    "x_val = x_mapper.transform(df_val).astype('float32')\n",
    "x_test = x_mapper.transform(df_test).astype('float32')"
   ]
  },
  {
   "cell_type": "markdown",
   "id": "f24c8445",
   "metadata": {},
   "source": [
    "# DeepSurv"
   ]
  },
  {
   "cell_type": "code",
   "execution_count": 6,
   "id": "42c76e72",
   "metadata": {},
   "outputs": [],
   "source": [
    "# Processing labels\n",
    "get_target = lambda df: (df['duration'].values, df['event'].values)\n",
    "y_train = get_target(df_train)\n",
    "y_val = get_target(df_val)\n",
    "durations_test, events_test = get_target(df_test)\n",
    "val = x_val, y_val"
   ]
  },
  {
   "cell_type": "code",
   "execution_count": 7,
   "id": "e6b517ab",
   "metadata": {},
   "outputs": [],
   "source": [
    "# Build Models\n",
    "in_features = x_train.shape[1]\n",
    "num_nodes = [32, 32]\n",
    "out_features = 1\n",
    "batch_norm = True\n",
    "dropout = 0.1\n",
    "output_bias = False\n",
    "\n",
    "net = tt.practical.MLPVanilla(in_features, num_nodes, out_features, batch_norm,\n",
    "                              dropout, output_bias=output_bias)\n",
    "\n",
    "model = CoxPH(net, tt.optim.Adam)\n"
   ]
  },
  {
   "cell_type": "code",
   "execution_count": 8,
   "id": "c76b0811",
   "metadata": {},
   "outputs": [
    {
     "name": "stdout",
     "output_type": "stream",
     "text": [
      "0:\t[0s / 0s],\t\ttrain_loss: 5.3011,\tval_loss: 4.4769\n",
      "1:\t[0s / 0s],\t\ttrain_loss: 4.7637,\tval_loss: 4.4074\n",
      "2:\t[0s / 0s],\t\ttrain_loss: 4.7031,\tval_loss: 4.0497\n",
      "3:\t[0s / 0s],\t\ttrain_loss: 4.7036,\tval_loss: 4.0853\n",
      "4:\t[0s / 0s],\t\ttrain_loss: 4.6486,\tval_loss: 3.9770\n",
      "5:\t[0s / 0s],\t\ttrain_loss: 4.6175,\tval_loss: 3.9723\n",
      "6:\t[0s / 0s],\t\ttrain_loss: 4.6161,\tval_loss: 3.9730\n",
      "7:\t[0s / 0s],\t\ttrain_loss: 4.6068,\tval_loss: 3.9245\n",
      "8:\t[0s / 0s],\t\ttrain_loss: 4.6051,\tval_loss: 3.9519\n",
      "9:\t[0s / 0s],\t\ttrain_loss: 4.5765,\tval_loss: 3.9485\n",
      "10:\t[0s / 0s],\t\ttrain_loss: 4.5990,\tval_loss: 3.9118\n",
      "11:\t[0s / 0s],\t\ttrain_loss: 4.5740,\tval_loss: 3.9678\n",
      "12:\t[0s / 0s],\t\ttrain_loss: 4.5925,\tval_loss: 3.9330\n",
      "13:\t[0s / 0s],\t\ttrain_loss: 4.5666,\tval_loss: 3.9175\n",
      "14:\t[0s / 0s],\t\ttrain_loss: 4.5577,\tval_loss: 3.9477\n",
      "15:\t[0s / 0s],\t\ttrain_loss: 4.5663,\tval_loss: 3.9541\n",
      "16:\t[0s / 0s],\t\ttrain_loss: 4.5662,\tval_loss: 3.9536\n",
      "17:\t[0s / 0s],\t\ttrain_loss: 4.5396,\tval_loss: 3.9600\n",
      "18:\t[0s / 0s],\t\ttrain_loss: 4.5660,\tval_loss: 3.9733\n",
      "19:\t[0s / 0s],\t\ttrain_loss: 4.5390,\tval_loss: 3.9573\n",
      "20:\t[0s / 0s],\t\ttrain_loss: 4.5801,\tval_loss: 3.9503\n"
     ]
    }
   ],
   "source": [
    "# Train the model\n",
    "batch_size = 256\n",
    "epochs = 100\n",
    "lrfinder = model.lr_finder(x_train, y_train, batch_size, tolerance=10)\n",
    "\n",
    "model.optimizer.set_lr(lrfinder.get_best_lr())\n",
    "epochs = 512\n",
    "callbacks = [tt.callbacks.EarlyStopping()]\n",
    "verbose = True\n",
    "\n",
    "log = model.fit(x_train, y_train, batch_size, epochs, callbacks, verbose,\n",
    "                val_data=val, val_batch_size=batch_size)\n"
   ]
  },
  {
   "cell_type": "code",
   "execution_count": 9,
   "id": "65539e83",
   "metadata": {
    "scrolled": true
   },
   "outputs": [
    {
     "data": {
      "image/png": "[encoded data removed]",
      "text/plain": [
       "<Figure size 432x288 with 1 Axes>"
      ]
     },
     "metadata": {
      "needs_background": "light"
     },
     "output_type": "display_data"
    }
   ],
   "source": [
    "_ = log.plot()\n"
   ]
  },
  {
   "cell_type": "code",
   "execution_count": 10,
   "id": "3d854da8",
   "metadata": {},
   "outputs": [],
   "source": [
    "# Evaluate the model\n",
    "from collections import defaultdict\n",
    "from sksurv.metrics import concordance_index_ipcw, brier_score\n",
    "\n",
    "def eval_single(df_train_all, model, test_set, val_batch_size=None):\n",
    "    get_target = lambda df: (df['duration'].values, df['event'].values)\n",
    "    durations_train, events_train = get_target(df_train_all)\n",
    "    et_train = np.array([(events_train[i], durations_train[i]) for i in range(len(events_train))],\n",
    "                    dtype = [('e', bool), ('t', float)])\n",
    "    \n",
    "    horizons = [0.25, 0.5, 0.75]\n",
    "    times = np.quantile(df[\"duration\"][df[\"event\"]==1.0], horizons).tolist()\n",
    "    \n",
    "\n",
    "    df_test, df_y_test = test_set\n",
    "    _ = model.compute_baseline_hazards()\n",
    "    surv = model.predict_surv(df_test, batch_size=val_batch_size)\n",
    "    risk = 1 - surv\n",
    "\n",
    "    durations_test, events_test = get_target(df_y_test)\n",
    "    et_test = np.array([(events_test[i], durations_test[i]) for i in range(len(events_test))],\n",
    "                dtype = [('e', bool), ('t', float)])\n",
    "\n",
    "    metric_dict = defaultdict(list)\n",
    "\n",
    "    cis = []\n",
    "    for i, _ in enumerate(times):\n",
    "        cis.append(\n",
    "            concordance_index_ipcw(et_train, et_test, estimate=risk[:, i+1], tau=times[i])[0]\n",
    "            )\n",
    "        metric_dict[f'{horizons[i]}_ipcw'] = cis[i]\n",
    "#         metric_dict[f'{horizons[i]}_brier'] = brs[i]\n",
    "\n",
    "\n",
    "    for horizon in enumerate(horizons):\n",
    "        print(f\"For {horizon[1]} quantile,\")\n",
    "        print(\"TD Concordance Index - IPCW:\", cis[horizon[0]])\n",
    "\n",
    "    return metric_dict"
   ]
  },
  {
   "cell_type": "code",
   "execution_count": 11,
   "id": "370aeb33",
   "metadata": {},
   "outputs": [
    {
     "name": "stdout",
     "output_type": "stream",
     "text": [
      "For 0.25 quantile,\n",
      "TD Concordance Index - IPCW: 0.6503412661940065\n",
      "For 0.5 quantile,\n",
      "TD Concordance Index - IPCW: 0.6598205985635893\n",
      "For 0.75 quantile,\n",
      "TD Concordance Index - IPCW: 0.6521704234101725\n"
     ]
    },
    {
     "data": {
      "text/plain": [
       "defaultdict(list,\n",
       "            {'0.25_ipcw': 0.6503412661940065,\n",
       "             '0.5_ipcw': 0.6598205985635893,\n",
       "             '0.75_ipcw': 0.6521704234101725})"
      ]
     },
     "execution_count": 11,
     "metadata": {},
     "output_type": "execute_result"
    }
   ],
   "source": [
    "df_y_test = pd.DataFrame({\"duration\": df['duration'].loc[df_test.index], \"event\": df['event'].loc[df_test.index]})\n",
    "eval_single(df_train, model, (x_test, df_y_test))"
   ]
  },
  {
   "cell_type": "markdown",
   "id": "8f519c15",
   "metadata": {},
   "source": [
    "# DeepHit"
   ]
  },
  {
   "cell_type": "code",
   "execution_count": 12,
   "id": "d0286fa9",
   "metadata": {},
   "outputs": [],
   "source": [
    "# Processing Labels\n",
    "labtrans = DeepHitSingle.label_transform(cuts=20)\n",
    "\n",
    "get_target = lambda df: (df['duration'].values, df['event'].values)\n",
    "y_train = labtrans.fit_transform(*get_target(df_train))\n",
    "y_val = labtrans.transform(*get_target(df_val))\n",
    "\n",
    "train = (x_train, y_train)\n",
    "val = (x_val, y_val)\n",
    "\n",
    "# We don't need to transform the test labels\n",
    "durations_test, events_test = get_target(df_test)"
   ]
  },
  {
   "cell_type": "code",
   "execution_count": 13,
   "id": "9981e60b",
   "metadata": {},
   "outputs": [],
   "source": [
    "# Build the model and train\n",
    "in_features = x_train.shape[1]\n",
    "num_nodes = [32, 32, 32]\n",
    "out_features = labtrans.out_features\n",
    "batch_norm = True\n",
    "dropout = 0.2\n",
    "\n",
    "net = tt.practical.MLPVanilla(in_features, num_nodes, out_features, batch_norm, dropout)\n",
    "model = DeepHitSingle(net, tt.optim.Adam(0.01), duration_index=labtrans.cuts)\n"
   ]
  },
  {
   "cell_type": "code",
   "execution_count": 14,
   "id": "d15fd354",
   "metadata": {},
   "outputs": [
    {
     "name": "stdout",
     "output_type": "stream",
     "text": [
      "0:\t[0s / 0s],\t\ttrain_loss: 0.7739,\tval_loss: 0.6114\n",
      "1:\t[0s / 0s],\t\ttrain_loss: 0.6969,\tval_loss: 0.6068\n",
      "2:\t[0s / 0s],\t\ttrain_loss: 0.6817,\tval_loss: 0.6043\n",
      "3:\t[0s / 0s],\t\ttrain_loss: 0.6598,\tval_loss: 0.6026\n",
      "4:\t[0s / 0s],\t\ttrain_loss: 0.6617,\tval_loss: 0.6045\n",
      "5:\t[0s / 0s],\t\ttrain_loss: 0.6508,\tval_loss: 0.6005\n",
      "6:\t[0s / 0s],\t\ttrain_loss: 0.6461,\tval_loss: 0.5987\n",
      "7:\t[0s / 0s],\t\ttrain_loss: 0.6369,\tval_loss: 0.5972\n",
      "8:\t[0s / 0s],\t\ttrain_loss: 0.6299,\tval_loss: 0.5961\n",
      "9:\t[0s / 0s],\t\ttrain_loss: 0.6351,\tval_loss: 0.5973\n",
      "10:\t[0s / 0s],\t\ttrain_loss: 0.6243,\tval_loss: 0.5995\n",
      "11:\t[0s / 0s],\t\ttrain_loss: 0.6241,\tval_loss: 0.5947\n",
      "12:\t[0s / 0s],\t\ttrain_loss: 0.6243,\tval_loss: 0.5935\n",
      "13:\t[0s / 0s],\t\ttrain_loss: 0.6261,\tval_loss: 0.5915\n",
      "14:\t[0s / 0s],\t\ttrain_loss: 0.6112,\tval_loss: 0.5920\n",
      "15:\t[0s / 0s],\t\ttrain_loss: 0.6129,\tval_loss: 0.5904\n",
      "16:\t[0s / 0s],\t\ttrain_loss: 0.6199,\tval_loss: 0.5926\n",
      "17:\t[0s / 0s],\t\ttrain_loss: 0.6072,\tval_loss: 0.5912\n",
      "18:\t[0s / 0s],\t\ttrain_loss: 0.6155,\tval_loss: 0.5925\n",
      "19:\t[0s / 0s],\t\ttrain_loss: 0.6144,\tval_loss: 0.5931\n",
      "20:\t[0s / 0s],\t\ttrain_loss: 0.6067,\tval_loss: 0.5947\n",
      "21:\t[0s / 0s],\t\ttrain_loss: 0.6127,\tval_loss: 0.5949\n",
      "22:\t[0s / 0s],\t\ttrain_loss: 0.6037,\tval_loss: 0.5928\n",
      "23:\t[0s / 0s],\t\ttrain_loss: 0.6002,\tval_loss: 0.5932\n",
      "24:\t[0s / 0s],\t\ttrain_loss: 0.5992,\tval_loss: 0.5948\n",
      "25:\t[0s / 0s],\t\ttrain_loss: 0.5947,\tval_loss: 0.6001\n"
     ]
    }
   ],
   "source": [
    "batch_size = 256\n",
    "epochs = 100\n",
    "callbacks = [tt.cb.EarlyStopping()]\n",
    "log = model.fit(x_train, y_train, batch_size, epochs, callbacks, val_data=val)\n"
   ]
  },
  {
   "cell_type": "code",
   "execution_count": 15,
   "id": "818c1cd1",
   "metadata": {},
   "outputs": [
    {
     "data": {
      "image/png": "[encoded data removed]",
      "text/plain": [
       "<Figure size 432x288 with 1 Axes>"
      ]
     },
     "metadata": {
      "needs_background": "light"
     },
     "output_type": "display_data"
    }
   ],
   "source": [
    "_ = log.plot()\n"
   ]
  },
  {
   "cell_type": "code",
   "execution_count": 16,
   "id": "cd7f8721",
   "metadata": {},
   "outputs": [
    {
     "name": "stdout",
     "output_type": "stream",
     "text": [
      "For 0.25 quantile,\n",
      "TD Concordance Index - IPCW: 0.7185865233805391\n",
      "For 0.5 quantile,\n",
      "TD Concordance Index - IPCW: 0.6696828138002664\n",
      "For 0.75 quantile,\n",
      "TD Concordance Index - IPCW: 0.6699457081446825\n"
     ]
    },
    {
     "data": {
      "text/plain": [
       "defaultdict(list,\n",
       "            {'0.25_ipcw': 0.7185865233805391,\n",
       "             '0.5_ipcw': 0.6696828138002664,\n",
       "             '0.75_ipcw': 0.6699457081446825})"
      ]
     },
     "execution_count": 16,
     "metadata": {},
     "output_type": "execute_result"
    }
   ],
   "source": [
    "# Evaluate the model\n",
    "\n",
    "def eval_single(df_train_all, model, test_set, val_batch_size=None):\n",
    "    get_target = lambda df: (df['duration'].values, df['event'].values)\n",
    "    durations_train, events_train = get_target(df_train_all)\n",
    "    et_train = np.array([(events_train[i], durations_train[i]) for i in range(len(events_train))],\n",
    "                    dtype = [('e', bool), ('t', float)])\n",
    "    \n",
    "    horizons = [0.25, 0.5, 0.75]\n",
    "    times = np.quantile(df[\"duration\"][df[\"event\"]==1.0], horizons).tolist()\n",
    "    \n",
    "\n",
    "    df_test, df_y_test = test_set\n",
    "    surv = model.predict_surv(df_test, batch_size=val_batch_size)\n",
    "    risk = 1 - surv\n",
    "\n",
    "    durations_test, events_test = get_target(df_y_test)\n",
    "    et_test = np.array([(events_test[i], durations_test[i]) for i in range(len(events_test))],\n",
    "                dtype = [('e', bool), ('t', float)])\n",
    "\n",
    "    metric_dict = defaultdict(list)\n",
    "\n",
    "    cis = []\n",
    "    for i, _ in enumerate(times):\n",
    "        cis.append(\n",
    "            concordance_index_ipcw(et_train, et_test, estimate=risk[:, i+1], tau=times[i])[0]\n",
    "            )\n",
    "        metric_dict[f'{horizons[i]}_ipcw'] = cis[i]\n",
    "#         metric_dict[f'{horizons[i]}_brier'] = brs[i]\n",
    "\n",
    "\n",
    "    for horizon in enumerate(horizons):\n",
    "        print(f\"For {horizon[1]} quantile,\")\n",
    "        print(\"TD Concordance Index - IPCW:\", cis[horizon[0]])\n",
    "\n",
    "    return metric_dict\n",
    "\n",
    "df_y_test = pd.DataFrame({\"duration\": df['duration'].loc[df_test.index], \"event\": df['event'].loc[df_test.index]})\n",
    "eval_single(df_train, model, (x_test, df_y_test))"
   ]
  },
  {
   "cell_type": "code",
   "execution_count": null,
   "id": "89021862",
   "metadata": {},
   "outputs": [],
   "source": []
  },
  {
   "cell_type": "markdown",
   "id": "8316edfe",
   "metadata": {},
   "source": [
    "# PC-Hazard "
   ]
  },
  {
   "cell_type": "code",
   "execution_count": 17,
   "id": "21708418",
   "metadata": {},
   "outputs": [],
   "source": [
    "# Processing labels\n",
    "num_durations = 10\n",
    "labtrans = PCHazard.label_transform(cuts=num_durations)\n",
    "\n",
    "get_target = lambda df: (df['duration'].values, df['event'].values)\n",
    "y_train = labtrans.fit_transform(*get_target(df_train))\n",
    "y_val = labtrans.transform(*get_target(df_val))\n",
    "\n",
    "train = (x_train, y_train)\n",
    "val = (x_val, y_val)\n",
    "\n",
    "# We don't need to transform the test labels\n",
    "durations_test, events_test = get_target(df_test)"
   ]
  },
  {
   "cell_type": "code",
   "execution_count": 18,
   "id": "b14a2667",
   "metadata": {},
   "outputs": [],
   "source": [
    "# Build the model and train\n",
    "in_features = x_train.shape[1]\n",
    "num_nodes = [32, 32, 32]\n",
    "out_features = labtrans.out_features\n",
    "batch_norm = True\n",
    "dropout = 0.2\n",
    "\n",
    "net = tt.practical.MLPVanilla(in_features, num_nodes, out_features, batch_norm, dropout)\n",
    "model = PCHazard(net, tt.optim.Adam, duration_index=labtrans.cuts)\n",
    "\n"
   ]
  },
  {
   "cell_type": "code",
   "execution_count": 19,
   "id": "e7df8144",
   "metadata": {
    "scrolled": true
   },
   "outputs": [
    {
     "name": "stdout",
     "output_type": "stream",
     "text": [
      "0:\t[0s / 0s],\t\ttrain_loss: 2.8821,\tval_loss: 2.7204\n",
      "1:\t[0s / 0s],\t\ttrain_loss: 2.8190,\tval_loss: 2.7494\n",
      "2:\t[0s / 0s],\t\ttrain_loss: 2.8131,\tval_loss: 2.7432\n",
      "3:\t[0s / 0s],\t\ttrain_loss: 2.7737,\tval_loss: 2.7240\n",
      "4:\t[0s / 0s],\t\ttrain_loss: 2.7260,\tval_loss: 2.6937\n",
      "5:\t[0s / 0s],\t\ttrain_loss: 2.6924,\tval_loss: 2.6654\n",
      "6:\t[0s / 0s],\t\ttrain_loss: 2.6492,\tval_loss: 2.6344\n",
      "7:\t[0s / 0s],\t\ttrain_loss: 2.6316,\tval_loss: 2.6031\n",
      "8:\t[0s / 0s],\t\ttrain_loss: 2.6045,\tval_loss: 2.5764\n",
      "9:\t[0s / 0s],\t\ttrain_loss: 2.5895,\tval_loss: 2.5462\n",
      "10:\t[0s / 0s],\t\ttrain_loss: 2.5710,\tval_loss: 2.5164\n",
      "11:\t[0s / 0s],\t\ttrain_loss: 2.5443,\tval_loss: 2.4870\n",
      "12:\t[0s / 0s],\t\ttrain_loss: 2.5042,\tval_loss: 2.4522\n",
      "13:\t[0s / 0s],\t\ttrain_loss: 2.4969,\tval_loss: 2.4221\n",
      "14:\t[0s / 0s],\t\ttrain_loss: 2.4679,\tval_loss: 2.3971\n",
      "15:\t[0s / 0s],\t\ttrain_loss: 2.4111,\tval_loss: 2.3664\n",
      "16:\t[0s / 0s],\t\ttrain_loss: 2.3961,\tval_loss: 2.3398\n",
      "17:\t[0s / 0s],\t\ttrain_loss: 2.3680,\tval_loss: 2.3080\n",
      "18:\t[0s / 0s],\t\ttrain_loss: 2.3408,\tval_loss: 2.2706\n",
      "19:\t[0s / 0s],\t\ttrain_loss: 2.3025,\tval_loss: 2.2421\n",
      "20:\t[0s / 0s],\t\ttrain_loss: 2.2961,\tval_loss: 2.2144\n",
      "21:\t[0s / 0s],\t\ttrain_loss: 2.2439,\tval_loss: 2.1776\n",
      "22:\t[0s / 0s],\t\ttrain_loss: 2.2481,\tval_loss: 2.1546\n",
      "23:\t[0s / 0s],\t\ttrain_loss: 2.1909,\tval_loss: 2.1229\n",
      "24:\t[0s / 0s],\t\ttrain_loss: 2.1537,\tval_loss: 2.0961\n",
      "25:\t[0s / 0s],\t\ttrain_loss: 2.1535,\tval_loss: 2.0610\n",
      "26:\t[0s / 0s],\t\ttrain_loss: 2.1136,\tval_loss: 2.0251\n",
      "27:\t[0s / 0s],\t\ttrain_loss: 2.0920,\tval_loss: 1.9970\n",
      "28:\t[0s / 0s],\t\ttrain_loss: 2.0418,\tval_loss: 1.9679\n",
      "29:\t[0s / 0s],\t\ttrain_loss: 2.0386,\tval_loss: 1.9335\n",
      "30:\t[0s / 0s],\t\ttrain_loss: 1.9970,\tval_loss: 1.9008\n",
      "31:\t[0s / 1s],\t\ttrain_loss: 1.9510,\tval_loss: 1.8761\n",
      "32:\t[0s / 1s],\t\ttrain_loss: 1.9373,\tval_loss: 1.8456\n",
      "33:\t[0s / 1s],\t\ttrain_loss: 1.9038,\tval_loss: 1.8205\n",
      "34:\t[0s / 1s],\t\ttrain_loss: 1.8946,\tval_loss: 1.7937\n",
      "35:\t[0s / 1s],\t\ttrain_loss: 1.8684,\tval_loss: 1.7679\n",
      "36:\t[0s / 1s],\t\ttrain_loss: 1.8285,\tval_loss: 1.7415\n",
      "37:\t[0s / 1s],\t\ttrain_loss: 1.8184,\tval_loss: 1.7174\n",
      "38:\t[0s / 1s],\t\ttrain_loss: 1.8049,\tval_loss: 1.6941\n",
      "39:\t[0s / 1s],\t\ttrain_loss: 1.7663,\tval_loss: 1.6707\n",
      "40:\t[0s / 1s],\t\ttrain_loss: 1.7359,\tval_loss: 1.6494\n",
      "41:\t[0s / 1s],\t\ttrain_loss: 1.7405,\tval_loss: 1.6326\n",
      "42:\t[0s / 1s],\t\ttrain_loss: 1.7017,\tval_loss: 1.6146\n",
      "43:\t[0s / 1s],\t\ttrain_loss: 1.6742,\tval_loss: 1.6006\n",
      "44:\t[0s / 1s],\t\ttrain_loss: 1.6591,\tval_loss: 1.5867\n",
      "45:\t[0s / 1s],\t\ttrain_loss: 1.6778,\tval_loss: 1.5698\n",
      "46:\t[0s / 1s],\t\ttrain_loss: 1.6611,\tval_loss: 1.5580\n",
      "47:\t[0s / 1s],\t\ttrain_loss: 1.6344,\tval_loss: 1.5478\n",
      "48:\t[0s / 1s],\t\ttrain_loss: 1.6163,\tval_loss: 1.5355\n",
      "49:\t[0s / 1s],\t\ttrain_loss: 1.6264,\tval_loss: 1.5270\n",
      "50:\t[0s / 1s],\t\ttrain_loss: 1.6101,\tval_loss: 1.5193\n",
      "51:\t[0s / 1s],\t\ttrain_loss: 1.6008,\tval_loss: 1.5090\n",
      "52:\t[0s / 1s],\t\ttrain_loss: 1.5853,\tval_loss: 1.5005\n",
      "53:\t[0s / 1s],\t\ttrain_loss: 1.5833,\tval_loss: 1.4955\n",
      "54:\t[0s / 1s],\t\ttrain_loss: 1.5744,\tval_loss: 1.4907\n",
      "55:\t[0s / 1s],\t\ttrain_loss: 1.5965,\tval_loss: 1.4833\n",
      "56:\t[0s / 1s],\t\ttrain_loss: 1.5625,\tval_loss: 1.4793\n",
      "57:\t[0s / 1s],\t\ttrain_loss: 1.5760,\tval_loss: 1.4760\n",
      "58:\t[0s / 1s],\t\ttrain_loss: 1.5478,\tval_loss: 1.4746\n",
      "59:\t[0s / 1s],\t\ttrain_loss: 1.5584,\tval_loss: 1.4727\n",
      "60:\t[0s / 1s],\t\ttrain_loss: 1.5724,\tval_loss: 1.4706\n",
      "61:\t[0s / 1s],\t\ttrain_loss: 1.5605,\tval_loss: 1.4681\n",
      "62:\t[0s / 1s],\t\ttrain_loss: 1.5427,\tval_loss: 1.4660\n",
      "63:\t[0s / 2s],\t\ttrain_loss: 1.5536,\tval_loss: 1.4642\n",
      "64:\t[0s / 2s],\t\ttrain_loss: 1.5423,\tval_loss: 1.4629\n",
      "65:\t[0s / 2s],\t\ttrain_loss: 1.5269,\tval_loss: 1.4622\n",
      "66:\t[0s / 2s],\t\ttrain_loss: 1.5494,\tval_loss: 1.4608\n",
      "67:\t[0s / 2s],\t\ttrain_loss: 1.5166,\tval_loss: 1.4588\n",
      "68:\t[0s / 2s],\t\ttrain_loss: 1.5251,\tval_loss: 1.4582\n",
      "69:\t[0s / 2s],\t\ttrain_loss: 1.5321,\tval_loss: 1.4583\n",
      "70:\t[0s / 2s],\t\ttrain_loss: 1.5141,\tval_loss: 1.4562\n",
      "71:\t[0s / 2s],\t\ttrain_loss: 1.5115,\tval_loss: 1.4551\n",
      "72:\t[0s / 2s],\t\ttrain_loss: 1.5321,\tval_loss: 1.4545\n",
      "73:\t[0s / 2s],\t\ttrain_loss: 1.5512,\tval_loss: 1.4530\n",
      "74:\t[0s / 2s],\t\ttrain_loss: 1.5193,\tval_loss: 1.4514\n",
      "75:\t[0s / 2s],\t\ttrain_loss: 1.4973,\tval_loss: 1.4509\n",
      "76:\t[0s / 2s],\t\ttrain_loss: 1.5180,\tval_loss: 1.4513\n",
      "77:\t[0s / 2s],\t\ttrain_loss: 1.5294,\tval_loss: 1.4525\n",
      "78:\t[0s / 2s],\t\ttrain_loss: 1.5194,\tval_loss: 1.4525\n",
      "79:\t[0s / 2s],\t\ttrain_loss: 1.4943,\tval_loss: 1.4517\n",
      "80:\t[0s / 2s],\t\ttrain_loss: 1.5213,\tval_loss: 1.4510\n",
      "81:\t[0s / 2s],\t\ttrain_loss: 1.5011,\tval_loss: 1.4503\n",
      "82:\t[0s / 2s],\t\ttrain_loss: 1.5123,\tval_loss: 1.4503\n",
      "83:\t[0s / 2s],\t\ttrain_loss: 1.5331,\tval_loss: 1.4498\n",
      "84:\t[0s / 2s],\t\ttrain_loss: 1.5098,\tval_loss: 1.4499\n",
      "85:\t[0s / 2s],\t\ttrain_loss: 1.4930,\tval_loss: 1.4495\n",
      "86:\t[0s / 2s],\t\ttrain_loss: 1.5273,\tval_loss: 1.4491\n",
      "87:\t[0s / 2s],\t\ttrain_loss: 1.5034,\tval_loss: 1.4491\n",
      "88:\t[0s / 2s],\t\ttrain_loss: 1.5200,\tval_loss: 1.4493\n",
      "89:\t[0s / 2s],\t\ttrain_loss: 1.4883,\tval_loss: 1.4506\n",
      "90:\t[0s / 2s],\t\ttrain_loss: 1.5102,\tval_loss: 1.4511\n",
      "91:\t[0s / 2s],\t\ttrain_loss: 1.4899,\tval_loss: 1.4515\n",
      "92:\t[0s / 2s],\t\ttrain_loss: 1.5117,\tval_loss: 1.4520\n",
      "93:\t[0s / 2s],\t\ttrain_loss: 1.4902,\tval_loss: 1.4518\n",
      "94:\t[0s / 2s],\t\ttrain_loss: 1.5071,\tval_loss: 1.4524\n",
      "95:\t[0s / 2s],\t\ttrain_loss: 1.4994,\tval_loss: 1.4518\n",
      "96:\t[0s / 3s],\t\ttrain_loss: 1.4939,\tval_loss: 1.4519\n",
      "97:\t[0s / 3s],\t\ttrain_loss: 1.4848,\tval_loss: 1.4519\n"
     ]
    }
   ],
   "source": [
    "batch_size = 256\n",
    "epochs = 100\n",
    "callbacks = [tt.cb.EarlyStopping()]\n",
    "log = model.fit(x_train, y_train, batch_size, epochs, callbacks, val_data=val)\n"
   ]
  },
  {
   "cell_type": "code",
   "execution_count": 20,
   "id": "52b846f1",
   "metadata": {},
   "outputs": [
    {
     "data": {
      "image/png": "[encoded data removed]",
      "text/plain": [
       "<Figure size 432x288 with 1 Axes>"
      ]
     },
     "metadata": {
      "needs_background": "light"
     },
     "output_type": "display_data"
    }
   ],
   "source": [
    "_ = log.plot()\n"
   ]
  },
  {
   "cell_type": "code",
   "execution_count": 21,
   "id": "b6773c06",
   "metadata": {},
   "outputs": [
    {
     "name": "stdout",
     "output_type": "stream",
     "text": [
      "For 0.25 quantile,\n",
      "TD Concordance Index - IPCW: 0.7121575867085904\n",
      "For 0.5 quantile,\n",
      "TD Concordance Index - IPCW: 0.6813192586043595\n",
      "For 0.75 quantile,\n",
      "TD Concordance Index - IPCW: 0.6525598809965008\n"
     ]
    },
    {
     "data": {
      "text/plain": [
       "defaultdict(list,\n",
       "            {'0.25_ipcw': 0.7121575867085904,\n",
       "             '0.5_ipcw': 0.6813192586043595,\n",
       "             '0.75_ipcw': 0.6525598809965008})"
      ]
     },
     "execution_count": 21,
     "metadata": {},
     "output_type": "execute_result"
    }
   ],
   "source": [
    "df_y_test = pd.DataFrame({\"duration\": df['duration'].loc[df_test.index], \"event\": df['event'].loc[df_test.index]})\n",
    "eval_single(df_train, model, (x_test, df_y_test))"
   ]
  },
  {
   "cell_type": "code",
   "execution_count": null,
   "id": "40d7b13e",
   "metadata": {},
   "outputs": [],
   "source": []
  },
  {
   "cell_type": "code",
   "execution_count": null,
   "id": "1c0d47cd",
   "metadata": {},
   "outputs": [],
   "source": []
  }
 ],
 "metadata": {
  "kernelspec": {
   "display_name": "Python 3 (ipykernel)",
   "language": "python",
   "name": "python3"
  },
  "language_info": {
   "codemirror_mode": {
    "name": "ipython",
    "version": 3
   },
   "file_extension": ".py",
   "mimetype": "text/x-python",
   "name": "python",
   "nbconvert_exporter": "python",
   "pygments_lexer": "ipython3",
   "version": "3.8.12"
  }
 },
 "nbformat": 4,
 "nbformat_minor": 5
}
